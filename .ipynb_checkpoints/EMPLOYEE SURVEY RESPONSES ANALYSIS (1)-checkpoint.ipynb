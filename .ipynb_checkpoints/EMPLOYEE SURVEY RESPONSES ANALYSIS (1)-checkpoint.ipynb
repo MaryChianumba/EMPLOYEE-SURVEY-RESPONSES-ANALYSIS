{
 "cells": [
  {
   "cell_type": "markdown",
   "id": "728f80e3",
   "metadata": {},
   "source": [
    "# EMPLOYEE SURVEY RESPONSES ANALYSIS"
   ]
  },
  {
   "cell_type": "markdown",
   "id": "c29b922b",
   "metadata": {},
   "source": [
    "Actual responses from an employee engagement survey conducted by Pierce County WA and completed voluntarily by government employees.\n",
    "\n",
    "Recommended Analysis\n",
    "1. Which survey questions did respondents agree with or disagree with most?\n",
    "\n",
    "2. Do you see any patterns or trends by department or role?"
   ]
  },
  {
   "cell_type": "code",
   "execution_count": null,
   "id": "e6801978",
   "metadata": {},
   "outputs": [],
   "source": []
  },
  {
   "cell_type": "markdown",
   "id": "e116771d",
   "metadata": {},
   "source": [
    "IMPORTING NECESSARY LIBRARIES"
   ]
  },
  {
   "cell_type": "code",
   "execution_count": 163,
   "id": "9147b058",
   "metadata": {},
   "outputs": [],
   "source": [
    "import pandas as pd\n",
    "import seaborn as sns\n",
    "import numpy as np\n",
    "import matplotlib.pyplot as plt\n",
    "\n",
    "%matplotlib inline"
   ]
  },
  {
   "cell_type": "markdown",
   "id": "e102c441",
   "metadata": {},
   "source": [
    "LOADING FILE"
   ]
  },
  {
   "cell_type": "code",
   "execution_count": 164,
   "id": "f131a128",
   "metadata": {},
   "outputs": [],
   "source": [
    "df = pd.read_excel(r'C:\\Users\\CHINELO\\Downloads\\HR Employee Survey Responses.xlsx')"
   ]
  },
  {
   "cell_type": "code",
   "execution_count": 165,
   "id": "39039c18",
   "metadata": {},
   "outputs": [
    {
     "data": {
      "text/html": [
       "<div>\n",
       "<style scoped>\n",
       "    .dataframe tbody tr th:only-of-type {\n",
       "        vertical-align: middle;\n",
       "    }\n",
       "\n",
       "    .dataframe tbody tr th {\n",
       "        vertical-align: top;\n",
       "    }\n",
       "\n",
       "    .dataframe thead th {\n",
       "        text-align: right;\n",
       "    }\n",
       "</style>\n",
       "<table border=\"1\" class=\"dataframe\">\n",
       "  <thead>\n",
       "    <tr style=\"text-align: right;\">\n",
       "      <th></th>\n",
       "      <th>Response ID</th>\n",
       "      <th>Status</th>\n",
       "      <th>Department</th>\n",
       "      <th>Director</th>\n",
       "      <th>Manager</th>\n",
       "      <th>Supervisor</th>\n",
       "      <th>Staff</th>\n",
       "      <th>Question</th>\n",
       "      <th>Response</th>\n",
       "      <th>Response Text</th>\n",
       "    </tr>\n",
       "  </thead>\n",
       "  <tbody>\n",
       "    <tr>\n",
       "      <th>0</th>\n",
       "      <td>1</td>\n",
       "      <td>Complete</td>\n",
       "      <td>Human Resources</td>\n",
       "      <td>0</td>\n",
       "      <td>1</td>\n",
       "      <td>0</td>\n",
       "      <td>0</td>\n",
       "      <td>1. I know what is expected of me at work</td>\n",
       "      <td>4.0</td>\n",
       "      <td>Strongly Agree</td>\n",
       "    </tr>\n",
       "    <tr>\n",
       "      <th>1</th>\n",
       "      <td>2</td>\n",
       "      <td>Complete</td>\n",
       "      <td>Communications Office</td>\n",
       "      <td>0</td>\n",
       "      <td>0</td>\n",
       "      <td>0</td>\n",
       "      <td>0</td>\n",
       "      <td>1. I know what is expected of me at work</td>\n",
       "      <td>4.0</td>\n",
       "      <td>Strongly Agree</td>\n",
       "    </tr>\n",
       "    <tr>\n",
       "      <th>2</th>\n",
       "      <td>3</td>\n",
       "      <td>Complete</td>\n",
       "      <td>Parks and Recreation</td>\n",
       "      <td>0</td>\n",
       "      <td>1</td>\n",
       "      <td>0</td>\n",
       "      <td>0</td>\n",
       "      <td>1. I know what is expected of me at work</td>\n",
       "      <td>0.0</td>\n",
       "      <td>Not Applicable</td>\n",
       "    </tr>\n",
       "    <tr>\n",
       "      <th>3</th>\n",
       "      <td>4</td>\n",
       "      <td>Complete</td>\n",
       "      <td>Human Resources</td>\n",
       "      <td>0</td>\n",
       "      <td>1</td>\n",
       "      <td>0</td>\n",
       "      <td>0</td>\n",
       "      <td>1. I know what is expected of me at work</td>\n",
       "      <td>3.0</td>\n",
       "      <td>Agree</td>\n",
       "    </tr>\n",
       "    <tr>\n",
       "      <th>4</th>\n",
       "      <td>5</td>\n",
       "      <td>Complete</td>\n",
       "      <td>Communications Office</td>\n",
       "      <td>0</td>\n",
       "      <td>0</td>\n",
       "      <td>0</td>\n",
       "      <td>0</td>\n",
       "      <td>1. I know what is expected of me at work</td>\n",
       "      <td>0.0</td>\n",
       "      <td>Not Applicable</td>\n",
       "    </tr>\n",
       "    <tr>\n",
       "      <th>5</th>\n",
       "      <td>6</td>\n",
       "      <td>Complete</td>\n",
       "      <td>Prosecuting Attorney's Office</td>\n",
       "      <td>0</td>\n",
       "      <td>0</td>\n",
       "      <td>0</td>\n",
       "      <td>0</td>\n",
       "      <td>1. I know what is expected of me at work</td>\n",
       "      <td>4.0</td>\n",
       "      <td>Strongly Agree</td>\n",
       "    </tr>\n",
       "    <tr>\n",
       "      <th>6</th>\n",
       "      <td>7</td>\n",
       "      <td>Complete</td>\n",
       "      <td>Prosecuting Attorney's Office</td>\n",
       "      <td>0</td>\n",
       "      <td>0</td>\n",
       "      <td>0</td>\n",
       "      <td>0</td>\n",
       "      <td>1. I know what is expected of me at work</td>\n",
       "      <td>4.0</td>\n",
       "      <td>Strongly Agree</td>\n",
       "    </tr>\n",
       "    <tr>\n",
       "      <th>7</th>\n",
       "      <td>8</td>\n",
       "      <td>Complete</td>\n",
       "      <td>Finance and Performance Management</td>\n",
       "      <td>0</td>\n",
       "      <td>0</td>\n",
       "      <td>0</td>\n",
       "      <td>1</td>\n",
       "      <td>1. I know what is expected of me at work</td>\n",
       "      <td>4.0</td>\n",
       "      <td>Strongly Agree</td>\n",
       "    </tr>\n",
       "    <tr>\n",
       "      <th>8</th>\n",
       "      <td>9</td>\n",
       "      <td>Complete</td>\n",
       "      <td>Finance and Performance Management</td>\n",
       "      <td>0</td>\n",
       "      <td>0</td>\n",
       "      <td>0</td>\n",
       "      <td>0</td>\n",
       "      <td>1. I know what is expected of me at work</td>\n",
       "      <td>2.0</td>\n",
       "      <td>Disagree</td>\n",
       "    </tr>\n",
       "    <tr>\n",
       "      <th>9</th>\n",
       "      <td>10</td>\n",
       "      <td>Complete</td>\n",
       "      <td>Planning and Public Works</td>\n",
       "      <td>0</td>\n",
       "      <td>0</td>\n",
       "      <td>0</td>\n",
       "      <td>0</td>\n",
       "      <td>1. I know what is expected of me at work</td>\n",
       "      <td>4.0</td>\n",
       "      <td>Strongly Agree</td>\n",
       "    </tr>\n",
       "  </tbody>\n",
       "</table>\n",
       "</div>"
      ],
      "text/plain": [
       "   Response ID    Status                          Department  Director  \\\n",
       "0            1  Complete                     Human Resources         0   \n",
       "1            2  Complete               Communications Office         0   \n",
       "2            3  Complete                Parks and Recreation         0   \n",
       "3            4  Complete                     Human Resources         0   \n",
       "4            5  Complete               Communications Office         0   \n",
       "5            6  Complete       Prosecuting Attorney's Office         0   \n",
       "6            7  Complete       Prosecuting Attorney's Office         0   \n",
       "7            8  Complete  Finance and Performance Management         0   \n",
       "8            9  Complete  Finance and Performance Management         0   \n",
       "9           10  Complete           Planning and Public Works         0   \n",
       "\n",
       "   Manager  Supervisor  Staff                                  Question  \\\n",
       "0        1           0      0  1. I know what is expected of me at work   \n",
       "1        0           0      0  1. I know what is expected of me at work   \n",
       "2        1           0      0  1. I know what is expected of me at work   \n",
       "3        1           0      0  1. I know what is expected of me at work   \n",
       "4        0           0      0  1. I know what is expected of me at work   \n",
       "5        0           0      0  1. I know what is expected of me at work   \n",
       "6        0           0      0  1. I know what is expected of me at work   \n",
       "7        0           0      1  1. I know what is expected of me at work   \n",
       "8        0           0      0  1. I know what is expected of me at work   \n",
       "9        0           0      0  1. I know what is expected of me at work   \n",
       "\n",
       "   Response   Response Text  \n",
       "0       4.0  Strongly Agree  \n",
       "1       4.0  Strongly Agree  \n",
       "2       0.0  Not Applicable  \n",
       "3       3.0           Agree  \n",
       "4       0.0  Not Applicable  \n",
       "5       4.0  Strongly Agree  \n",
       "6       4.0  Strongly Agree  \n",
       "7       4.0  Strongly Agree  \n",
       "8       2.0        Disagree  \n",
       "9       4.0  Strongly Agree  "
      ]
     },
     "execution_count": 165,
     "metadata": {},
     "output_type": "execute_result"
    }
   ],
   "source": [
    "df.head(10)"
   ]
  },
  {
   "cell_type": "code",
   "execution_count": null,
   "id": "f1bd56a1",
   "metadata": {},
   "outputs": [],
   "source": []
  },
  {
   "cell_type": "markdown",
   "id": "9160e45b",
   "metadata": {},
   "source": [
    "### EXPLORATORY DATA ANALYSIS"
   ]
  },
  {
   "cell_type": "code",
   "execution_count": 166,
   "id": "cf41adb7",
   "metadata": {},
   "outputs": [
    {
     "data": {
      "text/plain": [
       "(14725, 10)"
      ]
     },
     "execution_count": 166,
     "metadata": {},
     "output_type": "execute_result"
    }
   ],
   "source": [
    "df.shape"
   ]
  },
  {
   "cell_type": "markdown",
   "id": "cdcdf2c7",
   "metadata": {},
   "source": [
    "There are 14725 samples and 10 features"
   ]
  },
  {
   "cell_type": "code",
   "execution_count": 167,
   "id": "d952ec66",
   "metadata": {},
   "outputs": [
    {
     "name": "stdout",
     "output_type": "stream",
     "text": [
      "<class 'pandas.core.frame.DataFrame'>\n",
      "RangeIndex: 14725 entries, 0 to 14724\n",
      "Data columns (total 10 columns):\n",
      " #   Column         Non-Null Count  Dtype  \n",
      "---  ------         --------------  -----  \n",
      " 0   Response ID    14725 non-null  int64  \n",
      " 1   Status         14725 non-null  object \n",
      " 2   Department     14725 non-null  object \n",
      " 3   Director       14725 non-null  int64  \n",
      " 4   Manager        14725 non-null  int64  \n",
      " 5   Supervisor     14725 non-null  int64  \n",
      " 6   Staff          14725 non-null  int64  \n",
      " 7   Question       14725 non-null  object \n",
      " 8   Response       14590 non-null  float64\n",
      " 9   Response Text  14590 non-null  object \n",
      "dtypes: float64(1), int64(5), object(4)\n",
      "memory usage: 1.1+ MB\n"
     ]
    }
   ],
   "source": [
    "df.info()"
   ]
  },
  {
   "cell_type": "code",
   "execution_count": 168,
   "id": "0e2e7429",
   "metadata": {},
   "outputs": [
    {
     "name": "stdout",
     "output_type": "stream",
     "text": [
      "Response ID        0\n",
      "Status             0\n",
      "Department         0\n",
      "Director           0\n",
      "Manager            0\n",
      "Supervisor         0\n",
      "Staff              0\n",
      "Question           0\n",
      "Response         135\n",
      "Response Text    135\n",
      "dtype: int64\n"
     ]
    }
   ],
   "source": [
    "print(df.isnull().sum())"
   ]
  },
  {
   "cell_type": "markdown",
   "id": "a0f862d4",
   "metadata": {},
   "source": [
    "There are 135 missing values in both Reponse and Response Text"
   ]
  },
  {
   "cell_type": "code",
   "execution_count": 169,
   "id": "52fab110",
   "metadata": {},
   "outputs": [
    {
     "data": {
      "text/plain": [
       "Index(['Response ID', 'Status', 'Department', 'Director', 'Manager',\n",
       "       'Supervisor', 'Staff', 'Question', 'Response', 'Response Text'],\n",
       "      dtype='object')"
      ]
     },
     "execution_count": 169,
     "metadata": {},
     "output_type": "execute_result"
    }
   ],
   "source": [
    "df.columns"
   ]
  },
  {
   "cell_type": "code",
   "execution_count": 170,
   "id": "c3aff1fe",
   "metadata": {},
   "outputs": [
    {
     "data": {
      "text/plain": [
       "Response ID        int64\n",
       "Status            object\n",
       "Department        object\n",
       "Director           int64\n",
       "Manager            int64\n",
       "Supervisor         int64\n",
       "Staff              int64\n",
       "Question          object\n",
       "Response         float64\n",
       "Response Text     object\n",
       "dtype: object"
      ]
     },
     "execution_count": 170,
     "metadata": {},
     "output_type": "execute_result"
    }
   ],
   "source": [
    "df.dtypes"
   ]
  },
  {
   "cell_type": "code",
   "execution_count": null,
   "id": "79074c60",
   "metadata": {},
   "outputs": [],
   "source": []
  },
  {
   "cell_type": "markdown",
   "id": "649f6336",
   "metadata": {},
   "source": [
    "CHECKING FOR UNIQUE VALUES IN EACH COLUMNS"
   ]
  },
  {
   "cell_type": "code",
   "execution_count": 171,
   "id": "bc3847a3",
   "metadata": {},
   "outputs": [
    {
     "name": "stdout",
     "output_type": "stream",
     "text": [
      "Unique values in column 'Response ID': [    1     2     3 ... 14708 14709 14710]\n",
      "Unique values in column 'Status': ['Complete' 'Incomplete']\n",
      "Unique values in column 'Department': ['Human Resources' 'Communications Office' 'Parks and Recreation'\n",
      " \"Prosecuting Attorney's Office\" 'Finance and Performance Management'\n",
      " 'Planning and Public Works' 'Human Services' \"Sheriff's Department\"\n",
      " \"Assessor-Treasurer's Office\" 'District Court' 'Superior Court'\n",
      " 'Medical Examiner' 'Assigned Council' 'Facilities Management'\n",
      " 'Emergency Management' \"Council's Office\" 'Clerk of Superior Court'\n",
      " 'Juvenile Court' 'Exec Office & Directors' 'Family Justice Center'\n",
      " 'Economic Development']\n",
      "Unique values in column 'Director': [0 1]\n",
      "Unique values in column 'Manager': [1 0]\n",
      "Unique values in column 'Supervisor': [0 1]\n",
      "Unique values in column 'Staff': [0 1]\n",
      "Unique values in column 'Question': ['1. I know what is expected of me at work'\n",
      " '2. At work, I have the opportunity to do what I do best every day'\n",
      " '3. In the last seven days, I have received recognition or praise for doing good work'\n",
      " '4. My supervisor, or someone at work, seems to care about me as a person'\n",
      " '5. The mission or purpose of our organization makes me feel my job is important'\n",
      " '6. I have a best friend at work'\n",
      " '7. This last year, I have had opportunities at work to learn and grow'\n",
      " '7. This last year, I have had opportunities at work to learn & grow'\n",
      " '8. My supervisor holds employees accountable for performance'\n",
      " '9. My department is inclusive and demonstrates support of a diverse workforce'\n",
      " '10. Overall I am satisfied with my job'\n",
      " '10. Overall I am satisfied with my job ']\n",
      "Unique values in column 'Response': [ 4.  0.  3.  2.  1. nan]\n",
      "Unique values in column 'Response Text': ['Strongly Agree' 'Not Applicable' 'Agree' 'Disagree' 'Strongly Disagree'\n",
      " nan]\n"
     ]
    }
   ],
   "source": [
    "# Iterate through each column in the DataFrame\n",
    "for column in df.columns:\n",
    "    unique_values = df[column].unique()\n",
    "    print(f\"Unique values in column '{column}': {unique_values}\")"
   ]
  },
  {
   "cell_type": "markdown",
   "id": "4f30162f",
   "metadata": {},
   "source": [
    "It can be observed that there are mislabels in the RESPONSE feature that need to be cleaned"
   ]
  },
  {
   "cell_type": "code",
   "execution_count": null,
   "id": "ade5d62e",
   "metadata": {},
   "outputs": [],
   "source": []
  },
  {
   "cell_type": "markdown",
   "id": "4d8a615c",
   "metadata": {},
   "source": [
    "CHECKING FOR DUPLICATES"
   ]
  },
  {
   "cell_type": "code",
   "execution_count": 172,
   "id": "0386dd41",
   "metadata": {},
   "outputs": [
    {
     "data": {
      "text/plain": [
       "15"
      ]
     },
     "execution_count": 172,
     "metadata": {},
     "output_type": "execute_result"
    }
   ],
   "source": [
    "df.duplicated().sum()"
   ]
  },
  {
   "cell_type": "markdown",
   "id": "b8f44e0b",
   "metadata": {},
   "source": [
    "There are 15 duplicate records in the dataset"
   ]
  },
  {
   "cell_type": "code",
   "execution_count": 173,
   "id": "4037d663",
   "metadata": {},
   "outputs": [
    {
     "data": {
      "text/html": [
       "<div>\n",
       "<style scoped>\n",
       "    .dataframe tbody tr th:only-of-type {\n",
       "        vertical-align: middle;\n",
       "    }\n",
       "\n",
       "    .dataframe tbody tr th {\n",
       "        vertical-align: top;\n",
       "    }\n",
       "\n",
       "    .dataframe thead th {\n",
       "        text-align: right;\n",
       "    }\n",
       "</style>\n",
       "<table border=\"1\" class=\"dataframe\">\n",
       "  <thead>\n",
       "    <tr style=\"text-align: right;\">\n",
       "      <th></th>\n",
       "      <th>Response ID</th>\n",
       "      <th>Status</th>\n",
       "      <th>Department</th>\n",
       "      <th>Director</th>\n",
       "      <th>Manager</th>\n",
       "      <th>Supervisor</th>\n",
       "      <th>Staff</th>\n",
       "      <th>Question</th>\n",
       "      <th>Response</th>\n",
       "      <th>Response Text</th>\n",
       "    </tr>\n",
       "  </thead>\n",
       "  <tbody>\n",
       "    <tr>\n",
       "      <th>12</th>\n",
       "      <td>12</td>\n",
       "      <td>Complete</td>\n",
       "      <td>Planning and Public Works</td>\n",
       "      <td>0</td>\n",
       "      <td>0</td>\n",
       "      <td>0</td>\n",
       "      <td>0</td>\n",
       "      <td>1. I know what is expected of me at work</td>\n",
       "      <td>3.0</td>\n",
       "      <td>Agree</td>\n",
       "    </tr>\n",
       "    <tr>\n",
       "      <th>10433</th>\n",
       "      <td>10432</td>\n",
       "      <td>Complete</td>\n",
       "      <td>Finance and Performance Management</td>\n",
       "      <td>0</td>\n",
       "      <td>0</td>\n",
       "      <td>0</td>\n",
       "      <td>0</td>\n",
       "      <td>8. My supervisor holds employees accountable f...</td>\n",
       "      <td>4.0</td>\n",
       "      <td>Strongly Agree</td>\n",
       "    </tr>\n",
       "    <tr>\n",
       "      <th>10695</th>\n",
       "      <td>10693</td>\n",
       "      <td>Complete</td>\n",
       "      <td>Sheriff's Department</td>\n",
       "      <td>0</td>\n",
       "      <td>0</td>\n",
       "      <td>0</td>\n",
       "      <td>0</td>\n",
       "      <td>8. My supervisor holds employees accountable f...</td>\n",
       "      <td>4.0</td>\n",
       "      <td>Strongly Agree</td>\n",
       "    </tr>\n",
       "    <tr>\n",
       "      <th>10966</th>\n",
       "      <td>10963</td>\n",
       "      <td>Complete</td>\n",
       "      <td>Finance and Performance Management</td>\n",
       "      <td>0</td>\n",
       "      <td>0</td>\n",
       "      <td>1</td>\n",
       "      <td>0</td>\n",
       "      <td>8. My supervisor holds employees accountable f...</td>\n",
       "      <td>3.0</td>\n",
       "      <td>Agree</td>\n",
       "    </tr>\n",
       "    <tr>\n",
       "      <th>11170</th>\n",
       "      <td>11166</td>\n",
       "      <td>Complete</td>\n",
       "      <td>Prosecuting Attorney's Office</td>\n",
       "      <td>0</td>\n",
       "      <td>0</td>\n",
       "      <td>0</td>\n",
       "      <td>0</td>\n",
       "      <td>8. My supervisor holds employees accountable f...</td>\n",
       "      <td>3.0</td>\n",
       "      <td>Agree</td>\n",
       "    </tr>\n",
       "    <tr>\n",
       "      <th>11344</th>\n",
       "      <td>11339</td>\n",
       "      <td>Complete</td>\n",
       "      <td>Planning and Public Works</td>\n",
       "      <td>0</td>\n",
       "      <td>0</td>\n",
       "      <td>0</td>\n",
       "      <td>0</td>\n",
       "      <td>8. My supervisor holds employees accountable f...</td>\n",
       "      <td>4.0</td>\n",
       "      <td>Strongly Agree</td>\n",
       "    </tr>\n",
       "    <tr>\n",
       "      <th>11405</th>\n",
       "      <td>11399</td>\n",
       "      <td>Complete</td>\n",
       "      <td>Communications Office</td>\n",
       "      <td>0</td>\n",
       "      <td>0</td>\n",
       "      <td>0</td>\n",
       "      <td>0</td>\n",
       "      <td>8. My supervisor holds employees accountable f...</td>\n",
       "      <td>4.0</td>\n",
       "      <td>Strongly Agree</td>\n",
       "    </tr>\n",
       "    <tr>\n",
       "      <th>11636</th>\n",
       "      <td>11629</td>\n",
       "      <td>Complete</td>\n",
       "      <td>Parks and Recreation</td>\n",
       "      <td>0</td>\n",
       "      <td>0</td>\n",
       "      <td>0</td>\n",
       "      <td>0</td>\n",
       "      <td>8. My supervisor holds employees accountable f...</td>\n",
       "      <td>2.0</td>\n",
       "      <td>Disagree</td>\n",
       "    </tr>\n",
       "    <tr>\n",
       "      <th>12534</th>\n",
       "      <td>12526</td>\n",
       "      <td>Complete</td>\n",
       "      <td>Planning and Public Works</td>\n",
       "      <td>0</td>\n",
       "      <td>0</td>\n",
       "      <td>1</td>\n",
       "      <td>0</td>\n",
       "      <td>9. My department is inclusive and demonstrates...</td>\n",
       "      <td>4.0</td>\n",
       "      <td>Strongly Agree</td>\n",
       "    </tr>\n",
       "    <tr>\n",
       "      <th>12970</th>\n",
       "      <td>12961</td>\n",
       "      <td>Complete</td>\n",
       "      <td>Finance and Performance Management</td>\n",
       "      <td>0</td>\n",
       "      <td>0</td>\n",
       "      <td>0</td>\n",
       "      <td>0</td>\n",
       "      <td>9. My department is inclusive and demonstrates...</td>\n",
       "      <td>4.0</td>\n",
       "      <td>Strongly Agree</td>\n",
       "    </tr>\n",
       "    <tr>\n",
       "      <th>13336</th>\n",
       "      <td>13326</td>\n",
       "      <td>Complete</td>\n",
       "      <td>Finance and Performance Management</td>\n",
       "      <td>0</td>\n",
       "      <td>0</td>\n",
       "      <td>0</td>\n",
       "      <td>0</td>\n",
       "      <td>10. Overall I am satisfied with my job</td>\n",
       "      <td>3.0</td>\n",
       "      <td>Agree</td>\n",
       "    </tr>\n",
       "    <tr>\n",
       "      <th>14087</th>\n",
       "      <td>14076</td>\n",
       "      <td>Complete</td>\n",
       "      <td>Facilities Management</td>\n",
       "      <td>0</td>\n",
       "      <td>0</td>\n",
       "      <td>0</td>\n",
       "      <td>0</td>\n",
       "      <td>10. Overall I am satisfied with my job</td>\n",
       "      <td>3.0</td>\n",
       "      <td>Agree</td>\n",
       "    </tr>\n",
       "    <tr>\n",
       "      <th>14103</th>\n",
       "      <td>14091</td>\n",
       "      <td>Complete</td>\n",
       "      <td>Finance and Performance Management</td>\n",
       "      <td>0</td>\n",
       "      <td>1</td>\n",
       "      <td>0</td>\n",
       "      <td>0</td>\n",
       "      <td>10. Overall I am satisfied with my job</td>\n",
       "      <td>4.0</td>\n",
       "      <td>Strongly Agree</td>\n",
       "    </tr>\n",
       "    <tr>\n",
       "      <th>14286</th>\n",
       "      <td>14273</td>\n",
       "      <td>Complete</td>\n",
       "      <td>Prosecuting Attorney's Office</td>\n",
       "      <td>0</td>\n",
       "      <td>0</td>\n",
       "      <td>0</td>\n",
       "      <td>0</td>\n",
       "      <td>10. Overall I am satisfied with my job</td>\n",
       "      <td>3.0</td>\n",
       "      <td>Agree</td>\n",
       "    </tr>\n",
       "    <tr>\n",
       "      <th>14395</th>\n",
       "      <td>14381</td>\n",
       "      <td>Complete</td>\n",
       "      <td>Human Services</td>\n",
       "      <td>0</td>\n",
       "      <td>0</td>\n",
       "      <td>0</td>\n",
       "      <td>0</td>\n",
       "      <td>10. Overall I am satisfied with my job</td>\n",
       "      <td>2.0</td>\n",
       "      <td>Disagree</td>\n",
       "    </tr>\n",
       "  </tbody>\n",
       "</table>\n",
       "</div>"
      ],
      "text/plain": [
       "       Response ID    Status                          Department  Director  \\\n",
       "12              12  Complete           Planning and Public Works         0   \n",
       "10433        10432  Complete  Finance and Performance Management         0   \n",
       "10695        10693  Complete                Sheriff's Department         0   \n",
       "10966        10963  Complete  Finance and Performance Management         0   \n",
       "11170        11166  Complete       Prosecuting Attorney's Office         0   \n",
       "11344        11339  Complete           Planning and Public Works         0   \n",
       "11405        11399  Complete               Communications Office         0   \n",
       "11636        11629  Complete                Parks and Recreation         0   \n",
       "12534        12526  Complete           Planning and Public Works         0   \n",
       "12970        12961  Complete  Finance and Performance Management         0   \n",
       "13336        13326  Complete  Finance and Performance Management         0   \n",
       "14087        14076  Complete               Facilities Management         0   \n",
       "14103        14091  Complete  Finance and Performance Management         0   \n",
       "14286        14273  Complete       Prosecuting Attorney's Office         0   \n",
       "14395        14381  Complete                      Human Services         0   \n",
       "\n",
       "       Manager  Supervisor  Staff  \\\n",
       "12           0           0      0   \n",
       "10433        0           0      0   \n",
       "10695        0           0      0   \n",
       "10966        0           1      0   \n",
       "11170        0           0      0   \n",
       "11344        0           0      0   \n",
       "11405        0           0      0   \n",
       "11636        0           0      0   \n",
       "12534        0           1      0   \n",
       "12970        0           0      0   \n",
       "13336        0           0      0   \n",
       "14087        0           0      0   \n",
       "14103        1           0      0   \n",
       "14286        0           0      0   \n",
       "14395        0           0      0   \n",
       "\n",
       "                                                Question  Response  \\\n",
       "12              1. I know what is expected of me at work       3.0   \n",
       "10433  8. My supervisor holds employees accountable f...       4.0   \n",
       "10695  8. My supervisor holds employees accountable f...       4.0   \n",
       "10966  8. My supervisor holds employees accountable f...       3.0   \n",
       "11170  8. My supervisor holds employees accountable f...       3.0   \n",
       "11344  8. My supervisor holds employees accountable f...       4.0   \n",
       "11405  8. My supervisor holds employees accountable f...       4.0   \n",
       "11636  8. My supervisor holds employees accountable f...       2.0   \n",
       "12534  9. My department is inclusive and demonstrates...       4.0   \n",
       "12970  9. My department is inclusive and demonstrates...       4.0   \n",
       "13336             10. Overall I am satisfied with my job       3.0   \n",
       "14087             10. Overall I am satisfied with my job       3.0   \n",
       "14103             10. Overall I am satisfied with my job       4.0   \n",
       "14286             10. Overall I am satisfied with my job       3.0   \n",
       "14395             10. Overall I am satisfied with my job       2.0   \n",
       "\n",
       "        Response Text  \n",
       "12              Agree  \n",
       "10433  Strongly Agree  \n",
       "10695  Strongly Agree  \n",
       "10966           Agree  \n",
       "11170           Agree  \n",
       "11344  Strongly Agree  \n",
       "11405  Strongly Agree  \n",
       "11636        Disagree  \n",
       "12534  Strongly Agree  \n",
       "12970  Strongly Agree  \n",
       "13336           Agree  \n",
       "14087           Agree  \n",
       "14103  Strongly Agree  \n",
       "14286           Agree  \n",
       "14395        Disagree  "
      ]
     },
     "execution_count": 173,
     "metadata": {},
     "output_type": "execute_result"
    }
   ],
   "source": [
    "df[df.duplicated()]"
   ]
  },
  {
   "cell_type": "code",
   "execution_count": null,
   "id": "7a3d396c",
   "metadata": {},
   "outputs": [],
   "source": []
  },
  {
   "cell_type": "code",
   "execution_count": 174,
   "id": "03b95ccf",
   "metadata": {},
   "outputs": [
    {
     "data": {
      "text/html": [
       "<div>\n",
       "<style scoped>\n",
       "    .dataframe tbody tr th:only-of-type {\n",
       "        vertical-align: middle;\n",
       "    }\n",
       "\n",
       "    .dataframe tbody tr th {\n",
       "        vertical-align: top;\n",
       "    }\n",
       "\n",
       "    .dataframe thead th {\n",
       "        text-align: right;\n",
       "    }\n",
       "</style>\n",
       "<table border=\"1\" class=\"dataframe\">\n",
       "  <thead>\n",
       "    <tr style=\"text-align: right;\">\n",
       "      <th></th>\n",
       "      <th>Response ID</th>\n",
       "      <th>Director</th>\n",
       "      <th>Manager</th>\n",
       "      <th>Supervisor</th>\n",
       "      <th>Staff</th>\n",
       "      <th>Response</th>\n",
       "    </tr>\n",
       "  </thead>\n",
       "  <tbody>\n",
       "    <tr>\n",
       "      <th>count</th>\n",
       "      <td>14725.000000</td>\n",
       "      <td>14725.000000</td>\n",
       "      <td>14725.000000</td>\n",
       "      <td>14725.000000</td>\n",
       "      <td>14725.000000</td>\n",
       "      <td>14590.000000</td>\n",
       "    </tr>\n",
       "    <tr>\n",
       "      <th>mean</th>\n",
       "      <td>7359.773990</td>\n",
       "      <td>0.011545</td>\n",
       "      <td>0.072733</td>\n",
       "      <td>0.112869</td>\n",
       "      <td>0.084890</td>\n",
       "      <td>2.984236</td>\n",
       "    </tr>\n",
       "    <tr>\n",
       "      <th>std</th>\n",
       "      <td>4247.861393</td>\n",
       "      <td>0.106829</td>\n",
       "      <td>0.259707</td>\n",
       "      <td>0.316444</td>\n",
       "      <td>0.278727</td>\n",
       "      <td>1.020201</td>\n",
       "    </tr>\n",
       "    <tr>\n",
       "      <th>min</th>\n",
       "      <td>1.000000</td>\n",
       "      <td>0.000000</td>\n",
       "      <td>0.000000</td>\n",
       "      <td>0.000000</td>\n",
       "      <td>0.000000</td>\n",
       "      <td>0.000000</td>\n",
       "    </tr>\n",
       "    <tr>\n",
       "      <th>25%</th>\n",
       "      <td>3681.000000</td>\n",
       "      <td>0.000000</td>\n",
       "      <td>0.000000</td>\n",
       "      <td>0.000000</td>\n",
       "      <td>0.000000</td>\n",
       "      <td>3.000000</td>\n",
       "    </tr>\n",
       "    <tr>\n",
       "      <th>50%</th>\n",
       "      <td>7362.000000</td>\n",
       "      <td>0.000000</td>\n",
       "      <td>0.000000</td>\n",
       "      <td>0.000000</td>\n",
       "      <td>0.000000</td>\n",
       "      <td>3.000000</td>\n",
       "    </tr>\n",
       "    <tr>\n",
       "      <th>75%</th>\n",
       "      <td>11040.000000</td>\n",
       "      <td>0.000000</td>\n",
       "      <td>0.000000</td>\n",
       "      <td>0.000000</td>\n",
       "      <td>0.000000</td>\n",
       "      <td>4.000000</td>\n",
       "    </tr>\n",
       "    <tr>\n",
       "      <th>max</th>\n",
       "      <td>14710.000000</td>\n",
       "      <td>1.000000</td>\n",
       "      <td>1.000000</td>\n",
       "      <td>1.000000</td>\n",
       "      <td>1.000000</td>\n",
       "      <td>4.000000</td>\n",
       "    </tr>\n",
       "  </tbody>\n",
       "</table>\n",
       "</div>"
      ],
      "text/plain": [
       "        Response ID      Director       Manager    Supervisor         Staff  \\\n",
       "count  14725.000000  14725.000000  14725.000000  14725.000000  14725.000000   \n",
       "mean    7359.773990      0.011545      0.072733      0.112869      0.084890   \n",
       "std     4247.861393      0.106829      0.259707      0.316444      0.278727   \n",
       "min        1.000000      0.000000      0.000000      0.000000      0.000000   \n",
       "25%     3681.000000      0.000000      0.000000      0.000000      0.000000   \n",
       "50%     7362.000000      0.000000      0.000000      0.000000      0.000000   \n",
       "75%    11040.000000      0.000000      0.000000      0.000000      0.000000   \n",
       "max    14710.000000      1.000000      1.000000      1.000000      1.000000   \n",
       "\n",
       "           Response  \n",
       "count  14590.000000  \n",
       "mean       2.984236  \n",
       "std        1.020201  \n",
       "min        0.000000  \n",
       "25%        3.000000  \n",
       "50%        3.000000  \n",
       "75%        4.000000  \n",
       "max        4.000000  "
      ]
     },
     "execution_count": 174,
     "metadata": {},
     "output_type": "execute_result"
    }
   ],
   "source": [
    "df.describe()"
   ]
  },
  {
   "cell_type": "code",
   "execution_count": null,
   "id": "d90f890e",
   "metadata": {},
   "outputs": [],
   "source": []
  },
  {
   "cell_type": "markdown",
   "id": "93f31821",
   "metadata": {},
   "source": [
    "### DATA CLEANING"
   ]
  },
  {
   "cell_type": "markdown",
   "id": "208feef4",
   "metadata": {},
   "source": [
    "HANDLING MISSING VALUES"
   ]
  },
  {
   "cell_type": "code",
   "execution_count": 175,
   "id": "fd80a3d1",
   "metadata": {},
   "outputs": [
    {
     "data": {
      "text/plain": [
       "array([ 4.,  0.,  3.,  2.,  1., nan])"
      ]
     },
     "execution_count": 175,
     "metadata": {},
     "output_type": "execute_result"
    }
   ],
   "source": [
    "df['Response'].unique()"
   ]
  },
  {
   "cell_type": "code",
   "execution_count": 176,
   "id": "ab9d87ed",
   "metadata": {},
   "outputs": [
    {
     "name": "stdout",
     "output_type": "stream",
     "text": [
      "0\n"
     ]
    }
   ],
   "source": [
    "# Filling missing values for the RESPONSE column using median\n",
    "median_response = df['Response'].median()\n",
    "\n",
    "df['Response'] = df['Response'].fillna(median_response)\n",
    "\n",
    "print(df['Response'].isnull().sum())  "
   ]
  },
  {
   "cell_type": "code",
   "execution_count": 177,
   "id": "03b2dee3",
   "metadata": {},
   "outputs": [
    {
     "data": {
      "text/plain": [
       "array(['Strongly Agree', 'Not Applicable', 'Agree', 'Disagree',\n",
       "       'Strongly Disagree', nan], dtype=object)"
      ]
     },
     "execution_count": 177,
     "metadata": {},
     "output_type": "execute_result"
    }
   ],
   "source": [
    "df['Response Text'].unique()"
   ]
  },
  {
   "cell_type": "code",
   "execution_count": 178,
   "id": "67cec185",
   "metadata": {},
   "outputs": [
    {
     "name": "stdout",
     "output_type": "stream",
     "text": [
      "0\n"
     ]
    }
   ],
   "source": [
    "# Filling missing values for the RESPONSE TEXT column using mode\n",
    "mode_response = df['Response Text'].mode()\n",
    "\n",
    "mode_response = mode_response[0]\n",
    "\n",
    "df['Response Text'].fillna(mode_response, inplace=True)\n",
    "\n",
    "print(df['Response Text'].isnull().sum())    "
   ]
  },
  {
   "cell_type": "code",
   "execution_count": 179,
   "id": "71c4da97",
   "metadata": {},
   "outputs": [
    {
     "data": {
      "text/plain": [
       "array(['Strongly Agree', 'Not Applicable', 'Agree', 'Disagree',\n",
       "       'Strongly Disagree'], dtype=object)"
      ]
     },
     "execution_count": 179,
     "metadata": {},
     "output_type": "execute_result"
    }
   ],
   "source": [
    "df['Response Text'].unique()"
   ]
  },
  {
   "cell_type": "markdown",
   "id": "622f8692",
   "metadata": {},
   "source": [
    "RECHECKING FOR MISSING VALUES"
   ]
  },
  {
   "cell_type": "code",
   "execution_count": 180,
   "id": "3809a8e3",
   "metadata": {},
   "outputs": [
    {
     "name": "stdout",
     "output_type": "stream",
     "text": [
      "Response ID      0\n",
      "Status           0\n",
      "Department       0\n",
      "Director         0\n",
      "Manager          0\n",
      "Supervisor       0\n",
      "Staff            0\n",
      "Question         0\n",
      "Response         0\n",
      "Response Text    0\n",
      "dtype: int64\n"
     ]
    }
   ],
   "source": [
    "print(df.isnull().sum())"
   ]
  },
  {
   "cell_type": "code",
   "execution_count": null,
   "id": "b2fc614a",
   "metadata": {},
   "outputs": [],
   "source": []
  },
  {
   "cell_type": "markdown",
   "id": "b45af5b0",
   "metadata": {},
   "source": [
    "DROPPING DUPLICATES IN THE DATASET"
   ]
  },
  {
   "cell_type": "code",
   "execution_count": 181,
   "id": "46ee017e",
   "metadata": {},
   "outputs": [],
   "source": [
    "df = df.drop_duplicates(inplace=False)"
   ]
  },
  {
   "cell_type": "code",
   "execution_count": 182,
   "id": "5d76afdc",
   "metadata": {},
   "outputs": [
    {
     "data": {
      "text/plain": [
       "0"
      ]
     },
     "execution_count": 182,
     "metadata": {},
     "output_type": "execute_result"
    }
   ],
   "source": [
    "df.duplicated().sum()"
   ]
  },
  {
   "cell_type": "code",
   "execution_count": 183,
   "id": "2c8e7b80",
   "metadata": {},
   "outputs": [
    {
     "data": {
      "text/plain": [
       "(14710, 10)"
      ]
     },
     "execution_count": 183,
     "metadata": {},
     "output_type": "execute_result"
    }
   ],
   "source": [
    "df.shape"
   ]
  },
  {
   "cell_type": "code",
   "execution_count": null,
   "id": "26ebb5b0",
   "metadata": {},
   "outputs": [],
   "source": []
  },
  {
   "cell_type": "markdown",
   "id": "3d21d2ce",
   "metadata": {},
   "source": [
    "CORRECTING MISLABELS IN THE QUESTION COLUMN"
   ]
  },
  {
   "cell_type": "code",
   "execution_count": 184,
   "id": "b568cae5",
   "metadata": {},
   "outputs": [
    {
     "data": {
      "text/plain": [
       "array(['1. I know what is expected of me at work',\n",
       "       '2. At work, I have the opportunity to do what I do best every day',\n",
       "       '3. In the last seven days, I have received recognition or praise for doing good work',\n",
       "       '4. My supervisor, or someone at work, seems to care about me as a person',\n",
       "       '5. The mission or purpose of our organization makes me feel my job is important',\n",
       "       '6. I have a best friend at work',\n",
       "       '7. This last year, I have had opportunities at work to learn and grow',\n",
       "       '7. This last year, I have had opportunities at work to learn & grow',\n",
       "       '8. My supervisor holds employees accountable for performance',\n",
       "       '9. My department is inclusive and demonstrates support of a diverse workforce',\n",
       "       '10. Overall I am satisfied with my job',\n",
       "       '10. Overall I am satisfied with my job '], dtype=object)"
      ]
     },
     "execution_count": 184,
     "metadata": {},
     "output_type": "execute_result"
    }
   ],
   "source": [
    "df['Question'].unique()"
   ]
  },
  {
   "cell_type": "code",
   "execution_count": 185,
   "id": "70a991d9",
   "metadata": {},
   "outputs": [],
   "source": [
    "# Cleaning up whitespace and replacing '&' with 'and'\n",
    "df['Question'] = df['Question'].str.strip().str.replace('&', 'and', regex=True)\n",
    "\n",
    "df['Question'] = df['Question'].replace({\n",
    "    'This last year, I have had opportunities at work to learn and grow': 'This last year, I have had opportunities at work to learn and grow',\n",
    "    'Overall I am satisfied with my job': 'Overall I am satisfied with my job'})"
   ]
  },
  {
   "cell_type": "code",
   "execution_count": 186,
   "id": "8a0d584f",
   "metadata": {},
   "outputs": [
    {
     "data": {
      "text/plain": [
       "array(['1. I know what is expected of me at work',\n",
       "       '2. At work, I have the opportunity to do what I do best every day',\n",
       "       '3. In the last seven days, I have received recognition or praise for doing good work',\n",
       "       '4. My supervisor, or someone at work, seems to care about me as a person',\n",
       "       '5. The mission or purpose of our organization makes me feel my job is important',\n",
       "       '6. I have a best friend at work',\n",
       "       '7. This last year, I have had opportunities at work to learn and grow',\n",
       "       '8. My supervisor holds employees accountable for performance',\n",
       "       '9. My department is inclusive and demonstrates support of a diverse workforce',\n",
       "       '10. Overall I am satisfied with my job'], dtype=object)"
      ]
     },
     "execution_count": 186,
     "metadata": {},
     "output_type": "execute_result"
    }
   ],
   "source": [
    "df['Question'].unique()"
   ]
  },
  {
   "cell_type": "code",
   "execution_count": null,
   "id": "840b388e",
   "metadata": {},
   "outputs": [],
   "source": []
  },
  {
   "cell_type": "markdown",
   "id": "47a1e157",
   "metadata": {},
   "source": [
    "### WHICH SURVEY QUESTIONS DID RESPONDENTS AGREE WITH OR DISAGREE WITH MOST?"
   ]
  },
  {
   "cell_type": "code",
   "execution_count": 187,
   "id": "b2c63294",
   "metadata": {},
   "outputs": [
    {
     "name": "stdout",
     "output_type": "stream",
     "text": [
      "                                                    Agree  Disagree  N/A  \\\n",
      "Question                                                                   \n",
      "1. I know what is expected of me at work             1359       107    5   \n",
      "10. Overall I am satisfied with my job               1116       345   10   \n",
      "2. At work, I have the opportunity to do what I...   1176       281   14   \n",
      "3. In the last seven days, I have received reco...    943       495   33   \n",
      "4. My supervisor, or someone at work, seems to ...   1260       196   15   \n",
      "5. The mission or purpose of our organization m...   1172       282   17   \n",
      "6. I have a best friend at work                       681       606  184   \n",
      "7. This last year, I have had opportunities at ...   1116       317   38   \n",
      "8. My supervisor holds employees accountable fo...   1077       355   39   \n",
      "9. My department is inclusive and demonstrates ...   1195       237   39   \n",
      "\n",
      "                                                    Agreement Ratio  \n",
      "Question                                                             \n",
      "1. I know what is expected of me at work                   0.927012  \n",
      "10. Overall I am satisfied with my job                     0.763860  \n",
      "2. At work, I have the opportunity to do what I...         0.807138  \n",
      "3. In the last seven days, I have received reco...         0.655772  \n",
      "4. My supervisor, or someone at work, seems to ...         0.865385  \n",
      "5. The mission or purpose of our organization m...         0.806052  \n",
      "6. I have a best friend at work                            0.529138  \n",
      "7. This last year, I have had opportunities at ...         0.778786  \n",
      "8. My supervisor holds employees accountable fo...         0.752095  \n",
      "9. My department is inclusive and demonstrates ...         0.834497  \n"
     ]
    }
   ],
   "source": [
    "# Defining a mapping dictionary\n",
    "response_mapping = {\n",
    "    'Strongly Agree': 'Agree',\n",
    "    'Agree': 'Agree',\n",
    "    'Not Applicable': 'N/A',\n",
    "    'Disagree': 'Disagree',\n",
    "    'Strongly Disagree': 'Disagree'}\n",
    "\n",
    "# Mapping the responses to categories\n",
    "df['Response Category'] = df['Response Text'].map(response_mapping)\n",
    "\n",
    "# Creating a summary DataFrame\n",
    "summary = pd.DataFrame()\n",
    "\n",
    "# Groupping by the Question column and calculate the counts for each category\n",
    "summary['Agree'] = df[df['Response Category'] == 'Agree'].groupby('Question').size()\n",
    "summary['Disagree'] = df[df['Response Category'] == 'Disagree'].groupby('Question').size()\n",
    "summary['N/A'] = df[df['Response Category'] == 'N/A'].groupby('Question').size()\n",
    "\n",
    "# Filling missing values with 0\n",
    "summary = summary.fillna(0)\n",
    "\n",
    "# Calculating agreement ratio if needed\n",
    "summary['Agreement Ratio'] = summary['Agree'] / (summary['Agree'] + summary['Disagree'])\n",
    "\n",
    "# Printing the summary\n",
    "print(summary)"
   ]
  },
  {
   "cell_type": "code",
   "execution_count": 188,
   "id": "520e6f64",
   "metadata": {},
   "outputs": [
    {
     "data": {
      "image/png": "[encoded data removed]",
      "text/plain": [
       "<Figure size 1000x600 with 1 Axes>"
      ]
     },
     "metadata": {},
     "output_type": "display_data"
    }
   ],
   "source": [
    "# Plotting the stacked bar plot\n",
    "summary[['Agree', 'Disagree', 'N/A']].plot(kind='bar', stacked=True, figsize=(10, 6))\n",
    "plt.title('Agreement and Disagreement by Survey Question')\n",
    "plt.xlabel('Survey Question')\n",
    "plt.ylabel('Count')\n",
    "plt.xticks(rotation=90)  # Rotate x-axis labels for better readability\n",
    "plt.legend(title='Response Category')\n",
    "plt.show()"
   ]
  },
  {
   "cell_type": "markdown",
   "id": "09586dfb",
   "metadata": {},
   "source": [
    "It can be seen from the above illustration that the question the respondents agree with the most is 'I know what is expected of me at work'"
   ]
  },
  {
   "cell_type": "markdown",
   "id": "f7130e01",
   "metadata": {},
   "source": [
    "While the question that the respondents disagree with the most is 'I have a best friend at work'"
   ]
  },
  {
   "cell_type": "code",
   "execution_count": null,
   "id": "feca7361",
   "metadata": {},
   "outputs": [],
   "source": []
  },
  {
   "cell_type": "markdown",
   "id": "3a0a5d8f",
   "metadata": {},
   "source": [
    "### DO YOU SEE ANY PATTERNS OR TRENDS BY DEPARTMENT OR ROLE?"
   ]
  },
  {
   "cell_type": "code",
   "execution_count": 189,
   "id": "edd2283c",
   "metadata": {},
   "outputs": [
    {
     "data": {
      "text/plain": [
       "array(['Human Resources', 'Communications Office', 'Parks and Recreation',\n",
       "       \"Prosecuting Attorney's Office\",\n",
       "       'Finance and Performance Management', 'Planning and Public Works',\n",
       "       'Human Services', \"Sheriff's Department\",\n",
       "       \"Assessor-Treasurer's Office\", 'District Court', 'Superior Court',\n",
       "       'Medical Examiner', 'Assigned Council', 'Facilities Management',\n",
       "       'Emergency Management', \"Council's Office\",\n",
       "       'Clerk of Superior Court', 'Juvenile Court',\n",
       "       'Exec Office & Directors', 'Family Justice Center',\n",
       "       'Economic Development'], dtype=object)"
      ]
     },
     "execution_count": 189,
     "metadata": {},
     "output_type": "execute_result"
    }
   ],
   "source": [
    "df['Department'].unique()"
   ]
  },
  {
   "cell_type": "markdown",
   "id": "498d3e44",
   "metadata": {},
   "source": [
    "### Distribution of responses by department"
   ]
  },
  {
   "cell_type": "code",
   "execution_count": 208,
   "id": "d69cd669",
   "metadata": {},
   "outputs": [
    {
     "data": {
      "image/png": "[encoded data removed]",
      "text/plain": [
       "<Figure size 1200x800 with 1 Axes>"
      ]
     },
     "metadata": {},
     "output_type": "display_data"
    }
   ],
   "source": [
    "# Define a mapping dictionary for response text\n",
    "response_mapping = {\n",
    "    'Strongly Agree': 'Agree',\n",
    "    'Agree': 'Agree',\n",
    "    'Not Applicable': 'N/A',\n",
    "    'Disagree': 'Disagree',\n",
    "    'Strongly Disagree': 'Disagree'}\n",
    "\n",
    "# Map the response text to the categories\n",
    "df['Response Category'] = df['Response Text'].map(response_mapping)\n",
    "\n",
    "# Plotting response distribution by department with mapped response categories\n",
    "plt.figure(figsize=(12, 8))\n",
    "sns.countplot(data=df, y='Department', hue='Response Category', order=df['Department'].value_counts().index)\n",
    "plt.title('Distribution of Responses by Department')\n",
    "plt.xlabel('Count')\n",
    "plt.ylabel('Department')\n",
    "plt.legend(title='Response Category')\n",
    "plt.tight_layout()\n",
    "plt.show()"
   ]
  },
  {
   "cell_type": "markdown",
   "id": "844b43cd",
   "metadata": {},
   "source": [
    "All departments gave positive feedback on the survey questions"
   ]
  },
  {
   "cell_type": "code",
   "execution_count": null,
   "id": "ab096d0b",
   "metadata": {},
   "outputs": [],
   "source": []
  }
 ],
 "metadata": {
  "kernelspec": {
   "display_name": "Python 3 (ipykernel)",
   "language": "python",
   "name": "python3"
  },
  "language_info": {
   "codemirror_mode": {
    "name": "ipython",
    "version": 3
   },
   "file_extension": ".py",
   "mimetype": "text/x-python",
   "name": "python",
   "nbconvert_exporter": "python",
   "pygments_lexer": "ipython3",
   "version": "3.10.9"
  }
 },
 "nbformat": 4,
 "nbformat_minor": 5
}
